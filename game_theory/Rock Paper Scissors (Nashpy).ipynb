{
 "cells": [
  {
   "cell_type": "markdown",
   "metadata": {},
   "source": [
    "This notebook shows the use of the Nashpy library for playing the Rock Paper Scissors game. Nashpy is a Python library used for the computation of equilibria in 2 player strategic form games.\n",
    "\n",
    "Nashpy: https://nashpy.readthedocs.io/en/stable/index.html"
   ]
  },
  {
   "cell_type": "markdown",
   "metadata": {},
   "source": [
    "## The game"
   ]
  },
  {
   "cell_type": "markdown",
   "metadata": {},
   "source": [
    "Rock Paper Scissors is a common game where two players choose one of 3 options (in game theory we call these strategies):\n",
    "\n",
    "* Rock\n",
    "* Paper\n",
    "* Scissors\n",
    "\n",
    "The winner is decided according to the following:\n",
    "\n",
    "* Rock crushes scissors\n",
    "* Paper covers Rock\n",
    "* Scissors cuts paper\n",
    "\n",
    "This can be represented with a 3x3 matrix:\n",
    "\n",
    "| Throw | Rock | Paper | Scissors |\n",
    "|---|---|---|---|\n",
    "| Rock | 0 | -1 | 1 |\n",
    "| Paper | 1 | 0 | -1 |\n",
    "| Scissors | -1 | 1 | 0 |\n",
    "\n",
    "The matrix A<sub>ij</sub> shows the utility to the player controlling the rows when they play the *i* th row and their opponent (the column player) plays the *j* th column. For example, if the row player played Scissors (the 3rd strategy) and the column player played Paper (the 2nd strategy) then the row player gets: A<sub>32</sub>=1 because Scissors cuts Paper."
   ]
  },
  {
   "cell_type": "markdown",
   "metadata": {},
   "source": [
    "## Imports"
   ]
  },
  {
   "cell_type": "code",
   "execution_count": 4,
   "metadata": {},
   "outputs": [],
   "source": [
    "import nashpy as nash\n",
    "import numpy as np"
   ]
  },
  {
   "cell_type": "markdown",
   "metadata": {},
   "source": [
    "## Find the equilibrium for a simple game"
   ]
  },
  {
   "cell_type": "code",
   "execution_count": 5,
   "metadata": {},
   "outputs": [
    {
     "data": {
      "text/plain": [
       "Zero sum game with payoff matrices:\n",
       "\n",
       "Row player:\n",
       "[[ 0 -1  1]\n",
       " [ 1  0 -1]\n",
       " [-1  1  0]]\n",
       "\n",
       "Column player:\n",
       "[[ 0  1 -1]\n",
       " [-1  0  1]\n",
       " [ 1 -1  0]]"
      ]
     },
     "execution_count": 5,
     "metadata": {},
     "output_type": "execute_result"
    }
   ],
   "source": [
    "A = np.array([[0, -1, 1], [1, 0, -1], [-1, 1, 0]])\n",
    "rps = nash.Game(A)\n",
    "rps"
   ]
  },
  {
   "cell_type": "markdown",
   "metadata": {},
   "source": [
    "## Calculate the utility of a pair of strategies"
   ]
  },
  {
   "cell_type": "code",
   "execution_count": 6,
   "metadata": {},
   "outputs": [
    {
     "data": {
      "text/plain": [
       "array([ 1, -1])"
      ]
     },
     "execution_count": 6,
     "metadata": {},
     "output_type": "execute_result"
    }
   ],
   "source": [
    "sigma_r = [0, 0, 1] # row player always plays the third strategy\n",
    "sigma_c = [0, 1, 0] # column player always plays the second stragegy\n",
    "rps[sigma_r, sigma_c]"
   ]
  },
  {
   "cell_type": "markdown",
   "metadata": {},
   "source": [
    "The row player's strategy has more utility"
   ]
  },
  {
   "cell_type": "code",
   "execution_count": 7,
   "metadata": {},
   "outputs": [
    {
     "data": {
      "text/plain": [
       "array([0., 0.])"
      ]
     },
     "execution_count": 7,
     "metadata": {},
     "output_type": "execute_result"
    }
   ],
   "source": [
    "# Column player randomly plays rock (1) and paper (1)\n",
    "sigma_c = [1/2, 1/2, 0]\n",
    "rps[sigma_r, sigma_c]"
   ]
  },
  {
   "cell_type": "code",
   "execution_count": 11,
   "metadata": {},
   "outputs": [
    {
     "data": {
      "text/plain": [
       "array([ 0.25, -0.25])"
      ]
     },
     "execution_count": 11,
     "metadata": {},
     "output_type": "execute_result"
    }
   ],
   "source": [
    "# Row player changes stragegy and \"randomly\" plays paper (2) and scissors (3)\n",
    "sigma_r = [0, 1/2, 1/2]\n",
    "rps[sigma_r, sigma_c]"
   ]
  },
  {
   "cell_type": "markdown",
   "metadata": {},
   "source": [
    "## Compute Nash equilibria\n",
    "\n",
    "Nash equilibria is (in two player games) a pair of strategies at which both players do not have an incentive to deviate. Nash equilibria is an important concept as it allows to gain an initial understanding of emergent behaviour in complex systems."
   ]
  },
  {
   "cell_type": "code",
   "execution_count": 12,
   "metadata": {},
   "outputs": [
    {
     "data": {
      "text/plain": [
       "[(array([0.33333333, 0.33333333, 0.33333333]),\n",
       "  array([0.33333333, 0.33333333, 0.33333333]))]"
      ]
     },
     "execution_count": 12,
     "metadata": {},
     "output_type": "execute_result"
    }
   ],
   "source": [
    "eqs = rps.support_enumeration()\n",
    "list(eqs)"
   ]
  },
  {
   "cell_type": "code",
   "execution_count": null,
   "metadata": {},
   "outputs": [],
   "source": []
  }
 ],
 "metadata": {
  "kernelspec": {
   "display_name": "Python 3",
   "language": "python",
   "name": "python3"
  },
  "language_info": {
   "codemirror_mode": {
    "name": "ipython",
    "version": 3
   },
   "file_extension": ".py",
   "mimetype": "text/x-python",
   "name": "python",
   "nbconvert_exporter": "python",
   "pygments_lexer": "ipython3",
   "version": "3.7.1"
  }
 },
 "nbformat": 4,
 "nbformat_minor": 2
}
