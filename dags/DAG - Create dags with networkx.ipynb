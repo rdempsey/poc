{
 "cells": [
  {
   "cell_type": "markdown",
   "metadata": {},
   "source": [
    "## Imports"
   ]
  },
  {
   "cell_type": "code",
   "execution_count": null,
   "metadata": {},
   "outputs": [],
   "source": [
    "import networkx as nx\n",
    "from networkx.drawing.nx_agraph import write_dot, graphviz_layout\n",
    "from nxviz import ArcPlot\n",
    "import matplotlib as mpl\n",
    "import matplotlib.pyplot as plt\n",
    "import json\n",
    "\n",
    "%matplotlib inline"
   ]
  },
  {
   "cell_type": "markdown",
   "metadata": {},
   "source": [
    "## Custom Methods"
   ]
  },
  {
   "cell_type": "code",
   "execution_count": null,
   "metadata": {},
   "outputs": [],
   "source": [
    "def show_the_dag(dag, weighted_edges=False, edge_labels=False):\n",
    "    \"\"\"Show the dag in a vertical layout.\"\"\"\n",
    "    options = {\n",
    "        'node_color': 'red',\n",
    "        'edge_color': 'blue',\n",
    "        'arrowstyle': '-|>',\n",
    "        'arrowsize': 12,\n",
    "        'font_color': 'black',\n",
    "    }\n",
    "    write_dot(dag, 'tmp.dot')\n",
    "    pos = graphviz_layout(dag, prog='dot')\n",
    "    nx.draw(dag, pos, arrows=True, with_labels=True, **options)\n",
    "    if weighted_edges and edge_labels:\n",
    "        labels = nx.get_edge_attributes(dag,'weight')\n",
    "        nx.draw_networkx_edge_labels(dag, pos, edge_labels=labels)\n",
    "    plt.show()"
   ]
  },
  {
   "cell_type": "code",
   "execution_count": null,
   "metadata": {},
   "outputs": [],
   "source": [
    "def show_dag_data(dag):\n",
    "    \"\"\"Show the data from the dag in a nice layout.\"\"\"\n",
    "    graph_dict = dict(dag.nodes(data=True))\n",
    "    print(json.dumps(graph_dict, sort_keys=False, indent=2))"
   ]
  },
  {
   "cell_type": "markdown",
   "metadata": {},
   "source": [
    "## Create a simple dag"
   ]
  },
  {
   "cell_type": "code",
   "execution_count": null,
   "metadata": {},
   "outputs": [],
   "source": [
    "g = nx.DiGraph()\n",
    "g.add_nodes_from([\"a\", \"b\", \"c\"])\n",
    "g.add_edges_from([(\"a\", \"b\"), (\"a\", \"c\")])\n",
    "show_the_dag(g)"
   ]
  },
  {
   "cell_type": "code",
   "execution_count": null,
   "metadata": {},
   "outputs": [],
   "source": [
    "# Is this really a dag?\n",
    "nx.is_directed_acyclic_graph(g)"
   ]
  },
  {
   "cell_type": "code",
   "execution_count": null,
   "metadata": {},
   "outputs": [],
   "source": [
    "G = nx.DiGraph(day=\"Friday\")\n",
    "G.graph"
   ]
  },
  {
   "cell_type": "markdown",
   "metadata": {},
   "source": [
    "## Create a dag with data"
   ]
  },
  {
   "cell_type": "code",
   "execution_count": null,
   "metadata": {},
   "outputs": [],
   "source": [
    "G = nx.DiGraph()\n",
    "G.add_node(1, time='5pm')\n",
    "G.add_nodes_from([2, 3], time='2pm')\n",
    "G.add_edges_from([(1, 2), (1, 3)])\n",
    "show_the_dag(G)"
   ]
  },
  {
   "cell_type": "code",
   "execution_count": null,
   "metadata": {},
   "outputs": [],
   "source": [
    "# For more DAG algos: https://networkx.github.io/documentation/latest/reference/algorithms/dag.html\n",
    "nx.dag.ancestors(G, 2)"
   ]
  },
  {
   "cell_type": "code",
   "execution_count": null,
   "metadata": {},
   "outputs": [],
   "source": [
    "show_dag_data(G)"
   ]
  },
  {
   "cell_type": "code",
   "execution_count": null,
   "metadata": {},
   "outputs": [],
   "source": [
    "G.node[1]['room'] = 714\n",
    "show_dag_data(G)"
   ]
  },
  {
   "cell_type": "code",
   "execution_count": null,
   "metadata": {},
   "outputs": [],
   "source": [
    "dag_nodes = {\n",
    "    'a': ['b', 'c'],\n",
    "    'b': ['d'],\n",
    "    'c': ['b'],\n",
    "    'd': []\n",
    "}\n",
    "\n",
    "G = nx.DiGraph(dag_nodes)\n",
    "\n",
    "show_the_dag(G)"
   ]
  },
  {
   "cell_type": "markdown",
   "metadata": {},
   "source": [
    "## Create a dag with more nodes"
   ]
  },
  {
   "cell_type": "code",
   "execution_count": null,
   "metadata": {},
   "outputs": [],
   "source": [
    "d = {'Drogba': ['Beckham', 'Le Mans', 'Chelsea', 'Galatasaray'], 'Beckham': ['Manchester United', 'Real Madrid', 'Los Angeles Galaxy']}\n",
    "g = nx.Graph(d)\n",
    "show_the_dag(g)"
   ]
  },
  {
   "cell_type": "markdown",
   "metadata": {},
   "source": [
    "## Create a dag with more connections"
   ]
  },
  {
   "cell_type": "code",
   "execution_count": null,
   "metadata": {},
   "outputs": [],
   "source": [
    "dag_nodes = {\n",
    "    'a': ['b', 'c', 'd', 'e'],\n",
    "    'b': ['d'],\n",
    "    'c': ['d', 'e'],\n",
    "    'd': ['e'],\n",
    "    'e': []\n",
    "}\n",
    "g = nx.Graph(dag_nodes)\n",
    "show_the_dag(g)"
   ]
  },
  {
   "cell_type": "markdown",
   "metadata": {},
   "source": [
    "## Plot a dag with an ArcPlot"
   ]
  },
  {
   "cell_type": "code",
   "execution_count": null,
   "metadata": {},
   "outputs": [],
   "source": [
    "G = nx.DiGraph()\n",
    "\n",
    "# nodex\n",
    "NODES_EBUNCH = [\n",
    "    (\"A\", {\"n_visitors\": 1}),\n",
    "    (\"B\", {\"n_visitors\": 4}),\n",
    "    (\"C\", {\"n_visitors\": 20}),\n",
    "]\n",
    "\n",
    "G.add_nodes_from(NODES_EBUNCH)\n",
    "\n",
    "# edges\n",
    "EDGES_EBUNCH = [(\"A\", \"B\", 1), (\"A\", \"C\", 8), (\"B\", \"C\", 4)]\n",
    "\n",
    "G.add_weighted_edges_from(EDGES_EBUNCH)\n",
    "\n",
    "edges = G.edges()\n",
    "\n",
    "# ArcPlot\n",
    "c = ArcPlot(\n",
    "    G,\n",
    "    node_labels=True,\n",
    "    node_size=\"n_visitors\",\n",
    "    node_color=\"n_visitors\",\n",
    "    edge_width=\"weight\",\n",
    ")\n",
    "\n",
    "c.draw()\n",
    "plt.show()"
   ]
  },
  {
   "cell_type": "code",
   "execution_count": null,
   "metadata": {},
   "outputs": [],
   "source": [
    "show_dag_data(G)"
   ]
  },
  {
   "cell_type": "code",
   "execution_count": null,
   "metadata": {},
   "outputs": [],
   "source": [
    "labels = nx.get_edge_attributes(G,'weight')\n",
    "print(labels)"
   ]
  },
  {
   "cell_type": "code",
   "execution_count": null,
   "metadata": {},
   "outputs": [],
   "source": [
    "nx.dag.is_directed_acyclic_graph(G)"
   ]
  },
  {
   "cell_type": "code",
   "execution_count": null,
   "metadata": {},
   "outputs": [],
   "source": [
    "show_the_dag(G, weighted_edges=True, edge_labels=True)"
   ]
  },
  {
   "cell_type": "code",
   "execution_count": null,
   "metadata": {},
   "outputs": [],
   "source": []
  }
 ],
 "metadata": {
  "kernelspec": {
   "display_name": "Python 3",
   "language": "python",
   "name": "python3"
  },
  "language_info": {
   "codemirror_mode": {
    "name": "ipython",
    "version": 3
   },
   "file_extension": ".py",
   "mimetype": "text/x-python",
   "name": "python",
   "nbconvert_exporter": "python",
   "pygments_lexer": "ipython3",
   "version": "3.7.1"
  }
 },
 "nbformat": 4,
 "nbformat_minor": 2
}
